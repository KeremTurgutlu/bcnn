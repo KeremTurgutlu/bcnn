{
 "cells": [
  {
   "cell_type": "code",
   "execution_count": 1,
   "metadata": {},
   "outputs": [],
   "source": [
    "%matplotlib inline\n",
    "%reload_ext autoreload\n",
    "%autoreload 2"
   ]
  },
  {
   "cell_type": "code",
   "execution_count": 77,
   "metadata": {},
   "outputs": [],
   "source": [
    "import sys\n",
    "from pathlib import Path\n",
    "import os\n",
    "import shutil"
   ]
  },
  {
   "cell_type": "code",
   "execution_count": 3,
   "metadata": {},
   "outputs": [],
   "source": [
    "sys.path.append(\"../fastai/\")"
   ]
  },
  {
   "cell_type": "code",
   "execution_count": 4,
   "metadata": {},
   "outputs": [],
   "source": [
    "from fastai.conv_learner import *"
   ]
  },
  {
   "cell_type": "markdown",
   "metadata": {},
   "source": [
    "### train, val, test"
   ]
  },
  {
   "cell_type": "code",
   "execution_count": 14,
   "metadata": {},
   "outputs": [],
   "source": [
    "PATH = Path(\"../../DATA/CUB_200_2011/\")"
   ]
  },
  {
   "cell_type": "code",
   "execution_count": 82,
   "metadata": {},
   "outputs": [
    {
     "data": {
      "text/plain": [
       "[PosixPath('../../DATA/CUB_200_2011/classes.txt'),\n",
       " PosixPath('../../DATA/CUB_200_2011/images'),\n",
       " PosixPath('../../DATA/CUB_200_2011/train'),\n",
       " PosixPath('../../DATA/CUB_200_2011/val'),\n",
       " PosixPath('../../DATA/CUB_200_2011/image_class_labels.txt'),\n",
       " PosixPath('../../DATA/CUB_200_2011/README'),\n",
       " PosixPath('../../DATA/CUB_200_2011/images.txt'),\n",
       " PosixPath('../../DATA/CUB_200_2011/train_test_split.txt'),\n",
       " PosixPath('../../DATA/CUB_200_2011/attributes'),\n",
       " PosixPath('../../DATA/CUB_200_2011/bounding_boxes.txt'),\n",
       " PosixPath('../../DATA/CUB_200_2011/parts'),\n",
       " PosixPath('../../DATA/CUB_200_2011/test')]"
      ]
     },
     "execution_count": 82,
     "metadata": {},
     "output_type": "execute_result"
    }
   ],
   "source": [
    "paths = list(PATH.iterdir())\n",
    "paths"
   ]
  },
  {
   "cell_type": "code",
   "execution_count": 40,
   "metadata": {},
   "outputs": [],
   "source": [
    "def open_read(o): return o.open().read().strip()"
   ]
  },
  {
   "cell_type": "code",
   "execution_count": 46,
   "metadata": {},
   "outputs": [],
   "source": [
    "def get_dict_from_file(fname): return {line.split(' ')[0]:line.split(' ')[1] for line in open_read(fname).split(\"\\n\")}"
   ]
  },
  {
   "cell_type": "code",
   "execution_count": 83,
   "metadata": {},
   "outputs": [],
   "source": [
    "# 200 classes \n",
    "classes = get_dict_from_file(PATH/'classes.txt')"
   ]
  },
  {
   "cell_type": "code",
   "execution_count": 105,
   "metadata": {},
   "outputs": [],
   "source": [
    "classes = list(classes.values())"
   ]
  },
  {
   "cell_type": "code",
   "execution_count": 84,
   "metadata": {},
   "outputs": [],
   "source": [
    "# image class labels\n",
    "image_cls_labels = get_dict_from_file(PATH/'image_class_labels.txt')"
   ]
  },
  {
   "cell_type": "code",
   "execution_count": 85,
   "metadata": {},
   "outputs": [],
   "source": [
    "# image ids and corresponding file names\n",
    "img_id_2_fname = get_dict_from_file(PATH/'images.txt')"
   ]
  },
  {
   "cell_type": "code",
   "execution_count": 86,
   "metadata": {},
   "outputs": [],
   "source": [
    "# train test split - is_training\n",
    "img_id_2_istrain = get_dict_from_file(PATH/'train_test_split.txt')"
   ]
  },
  {
   "cell_type": "code",
   "execution_count": 150,
   "metadata": {},
   "outputs": [
    {
     "data": {
      "text/plain": [
       "11788"
      ]
     },
     "execution_count": 150,
     "metadata": {},
     "output_type": "execute_result"
    }
   ],
   "source": [
    "len(img_id_2_istrain)"
   ]
  },
  {
   "cell_type": "code",
   "execution_count": 148,
   "metadata": {},
   "outputs": [],
   "source": [
    "# train/test ratio\n",
    "istrain = np.array(list(img_id_2_istrain.values()), dtype='int')"
   ]
  },
  {
   "cell_type": "code",
   "execution_count": 144,
   "metadata": {},
   "outputs": [],
   "source": [
    "# move test to test folders\n",
    "os.makedirs(PATH/'train', exist_ok=True)\n",
    "os.makedirs(PATH/'val', exist_ok=True)\n",
    "os.makedirs(PATH/'test', exist_ok=True)\n",
    "for c in classes:\n",
    "    os.makedirs(str(PATH/'train')+'/'+c, exist_ok=True)\n",
    "    os.makedirs(str(PATH/'val')+'/'+c, exist_ok=True)\n",
    "    os.makedirs(str(PATH/'test')+'/'+c, exist_ok=True)"
   ]
  },
  {
   "cell_type": "code",
   "execution_count": 145,
   "metadata": {},
   "outputs": [],
   "source": [
    "train_count=0\n",
    "test_count=0\n",
    "for k in img_id_2_istrain:\n",
    "    istrain = img_id_2_istrain[k]\n",
    "    im = open_image(PATH/'images'/img_id_2_fname[k])\n",
    "    if istrain == \"0\": # is test\n",
    "        shutil.copy2(PATH/'images'/img_id_2_fname[k], PATH/'test'/img_id_2_fname[k])\n",
    "        test_count+=1\n",
    "    else:\n",
    "        shutil.copy2(PATH/'images'/img_id_2_fname[k], PATH/'train'/img_id_2_fname[k])\n",
    "        train_count+=1"
   ]
  },
  {
   "cell_type": "code",
   "execution_count": 151,
   "metadata": {},
   "outputs": [
    {
     "data": {
      "text/plain": [
       "(5994, 5794, 11788)"
      ]
     },
     "execution_count": 151,
     "metadata": {},
     "output_type": "execute_result"
    }
   ],
   "source": [
    "train_count, test_count, train_count + test_count"
   ]
  },
  {
   "cell_type": "code",
   "execution_count": 155,
   "metadata": {},
   "outputs": [],
   "source": [
    "# move 0.2 of train to val\n",
    "train_dirs = list((PATH/'train').iterdir())\n",
    "for o in train_dirs:\n",
    "    print(o.name, len(list(o.iterdir())))"
   ]
  },
  {
   "cell_type": "code",
   "execution_count": 202,
   "metadata": {},
   "outputs": [],
   "source": [
    "ratio = 0.2\n",
    "for o in train_dirs:\n",
    "    train_files = list(o.iterdir())\n",
    "    n = int(len(train_files)*ratio)\n",
    "    val_files = np.random.choice(train_files, n, replace=False)\n",
    "    for f in val_files: \n",
    "        shutil.move(f, PATH/'val'/o.name/f.name)"
   ]
  },
  {
   "cell_type": "code",
   "execution_count": 206,
   "metadata": {},
   "outputs": [
    {
     "data": {
      "text/plain": [
       "True"
      ]
     },
     "execution_count": 206,
     "metadata": {},
     "output_type": "execute_result"
    }
   ],
   "source": [
    "11788 == 5001 + 1395 + 5995 - 201*3"
   ]
  },
  {
   "cell_type": "code",
   "execution_count": 22,
   "metadata": {},
   "outputs": [
    {
     "name": "stdout",
     "output_type": "stream",
     "text": [
      "===========================================\n",
      "The Caltech-UCSD Birds-200-2011 Dataset\n",
      "===========================================\n",
      "\n",
      "For more information about the dataset, visit the project website:\n",
      "\n",
      "  http://www.vision.caltech.edu/visipedia\n",
      "\n",
      "If you use the dataset in a publication, please cite the dataset in\n",
      "the style described on the dataset website (see url above).\n",
      "\n",
      "Directory Information\n",
      "---------------------\n",
      "\n",
      "- images/\n",
      "    The images organized in subdirectories based on species. See \n",
      "    IMAGES AND CLASS LABELS section below for more info.\n",
      "- parts/\n",
      "    15 part locations per image. See PART LOCATIONS section below \n",
      "    for more info.\n",
      "- attributes/\n",
      "    322 binary attribute labels from MTurk workers. See ATTRIBUTE LABELS \n",
      "    section below for more info.\n",
      "\n",
      "\n",
      "\n",
      "=========================\n",
      "IMAGES AND CLASS LABELS:\n",
      "=========================\n",
      "Images are contained in the directory images/, with 200 subdirectories (one for each bird species)\n",
      "\n",
      "------- List of image files (images.txt) ------\n",
      "The list of image file names is contained in the file images.txt, with each line corresponding to one image:\n",
      "\n",
      "<image_id> <image_name>\n",
      "------------------------------------------\n",
      "\n",
      "\n",
      "------- Train/test split (train_test_split.txt) ------\n",
      "The suggested train/test split is contained in the file train_test_split.txt, with each line corresponding to one image:\n",
      "\n",
      "<image_id> <is_training_image>\n",
      "\n",
      "where <image_id> corresponds to the ID in images.txt, and a value of 1 or 0 for <is_training_image> denotes that the file is in the training or test set, respectively.\n",
      "------------------------------------------------------\n",
      "\n",
      "\n",
      "------- List of class names (classes.txt) ------\n",
      "The list of class names (bird species) is contained in the file classes.txt, with each line corresponding to one class:\n",
      "\n",
      "<class_id> <class_name>\n",
      "--------------------------------------------\n",
      "\n",
      "\n",
      "------- Image class labels (image_class_labels.txt) ------\n",
      "The ground truth class labels (bird species labels) for each image are contained in the file image_class_labels.txt, with each line corresponding to one image:\n",
      "\n",
      "<image_id> <class_id>\n",
      "\n",
      "where <image_id> and <class_id> correspond to the IDs in images.txt and classes.txt, respectively.\n",
      "---------------------------------------------------------\n",
      "\n",
      "\n",
      "\n",
      "\n",
      "\n",
      "=========================\n",
      "BOUNDING BOXES:\n",
      "=========================\n",
      "\n",
      "Each image contains a single bounding box label.  Bounding box labels are contained in the file bounding_boxes.txt, with each line corresponding to one image:\n",
      "\n",
      "<image_id> <x> <y> <width> <height>\n",
      "\n",
      "where <image_id> corresponds to the ID in images.txt, and <x>, <y>, <width>, and <height> are all measured in pixels\n",
      "\n",
      "\n",
      "\n",
      "\n",
      "=========================\n",
      "PART LOCATIONS:\n",
      "=========================\n",
      "\n",
      "------- List of part names (parts/parts.txt) ------\n",
      "The list of all part names is contained in the file parts/parts.txt, with each line corresponding to one part:\n",
      "\n",
      "<part_id> <part_name>\n",
      "------------------------------------------\n",
      "\n",
      "\n",
      "------- Part locations (parts/part_locs.txt) ------\n",
      "The set of all ground truth part locations is contained in the file parts/part_locs.txt, with each line corresponding to the annotation of a particular part in a particular image:\n",
      "\n",
      "<image_id> <part_id> <x> <y> <visible>\n",
      "\n",
      "where <image_id> and <part_id> correspond to the IDs in images.txt and parts/parts.txt, respectively.  <x> and <y> denote the pixel location of the center of the part.  <visible> is 0 if the part is not visible in the image and 1 otherwise.\n",
      "----------------------------------------------------------\n",
      "\n",
      "\n",
      "------- MTurk part locations (parts/part_click_locs.txt) ------\n",
      "A set of multiple part locations for each image and part, as perceived by multiple MTurk users is contained in parts/part_click_locs.txt, with each line corresponding to the annotation of a particular part in a particular image by a different MTurk worker:\n",
      "\n",
      "<image_id> <part_id> <x> <y> <visible> <time>\n",
      "\n",
      "where <image_id>, <part_id>, <x>, <y> are in the same format as defined in parts/part_locs.txt, and <time> is the time in seconds spent by the MTurk worker.\n",
      "----------------------------------------------------------\n",
      "\n",
      "\n",
      "\n",
      "=========================\n",
      "ATTRIBUTE LABELS:\n",
      "=========================\n",
      "\n",
      "------- List of attribute names (attributes/attributes.txt) ------\n",
      "The list of all attribute names is contained in the file attributes/attributes.txt, with each line corresponding to one attribute:\n",
      "\n",
      "<attribute_id> <attribute_name>\n",
      "------------------------------------------------------------------\n",
      "\n",
      "\n",
      "------- List of certainty names (attributes/certainties.txt) ------\n",
      "The list of all certainty names (used by workers to specify their certainty of an attribute response of is contained in the file attributes/certainties.txt, with each line corresponding to one certainty:\n",
      "\n",
      "<certainty_id> <certainty_name>\n",
      "-------------------------------------------------------------------\n",
      "\n",
      "\n",
      "------- MTurk image attribute labels (attributes/image_attribute_labels.txt) ------\n",
      "The set of attribute labels as perceived by MTurkers for each image is contained in the file attributes/image_attribute_labels.txt, with each line corresponding to one image/attribute/worker triplet:\n",
      "\n",
      "<image_id> <attribute_id> <is_present> <certainty_id> <time>\n",
      "\n",
      "where <image_id>, <attribute_id>, <certainty_id> correspond to the IDs in images.txt, attributes/attributes.txt, and attributes/certainties.txt respectively.  <is_present> is 0 or 1 (1 denotes that the attribute is present).  <time> denotes the time spent by the MTurker in seconds.\n",
      "-----------------------------------------------------------------------------------\n",
      "\n",
      "\n",
      "------- Class attribute labels (attributes/class_attribute_labels_continuous.txt) ------\n",
      "Attributes on a per-class level--in a similar format to the Animals With Attributes dataset--are contained in attributes/class_attribute_labels_continuous.txt.  The file contains 200 lines and 312 space-separated columns.  Each line corresponds to one class (in the same order as classes.txt) and each column contains one real-valued number corresponding to one attribute (in the same order as attributes.txt).  The number is the percentage of the time (between 0 and 100) that a human thinks that the attribute is present for a given class\n",
      "----------------------------------------------------------------------------------------\n",
      "\n",
      "\n"
     ]
    }
   ],
   "source": [
    "print(open(PATH/\"README\").read())"
   ]
  },
  {
   "cell_type": "code",
   "execution_count": 296,
   "metadata": {},
   "outputs": [],
   "source": [
    "# test images shouldn't be under subfolders, they should be together\n",
    "\n",
    "for o in list((PATH/'test').glob(\"**/*.jpg\")):\n",
    "    shutil.move(o, PATH/'test'/o.name)"
   ]
  },
  {
   "cell_type": "code",
   "execution_count": 323,
   "metadata": {},
   "outputs": [],
   "source": [
    "for o in list((PATH/'test').glob(\"**/[0-9]*\")):\n",
    "    shutil.rmtree(o)"
   ]
  },
  {
   "cell_type": "code",
   "execution_count": 325,
   "metadata": {},
   "outputs": [
    {
     "data": {
      "text/plain": [
       "[]"
      ]
     },
     "execution_count": 325,
     "metadata": {},
     "output_type": "execute_result"
    }
   ],
   "source": [
    "list((PATH/'test').glob(\"**/[0-9]*\"))"
   ]
  },
  {
   "cell_type": "markdown",
   "metadata": {},
   "source": [
    "### look at data"
   ]
  },
  {
   "cell_type": "code",
   "execution_count": 226,
   "metadata": {},
   "outputs": [],
   "source": [
    "szs = []\n",
    "for o in list((PATH/'images').glob('**/*.jpg')): #https://stackoverflow.com/questions/50714469/recursively-iterate-through-all-subdirectories-using-pathlib\n",
    "    szs.append(open_image(o).shape)"
   ]
  },
  {
   "cell_type": "code",
   "execution_count": 244,
   "metadata": {},
   "outputs": [],
   "source": [
    "szs_dict = Counter([tuple(l) for l in np.array(szs)[:, :2].tolist()])"
   ]
  },
  {
   "cell_type": "code",
   "execution_count": 245,
   "metadata": {},
   "outputs": [
    {
     "data": {
      "text/plain": [
       "[((333, 500), 1820),\n",
       " ((375, 500), 1192),\n",
       " ((400, 500), 366),\n",
       " ((334, 500), 364),\n",
       " ((500, 333), 305),\n",
       " ((357, 500), 239),\n",
       " ((332, 500), 235),\n",
       " ((500, 500), 205),\n",
       " ((500, 400), 166),\n",
       " ((335, 500), 157),\n",
       " ((500, 375), 144),\n",
       " ((500, 357), 89),\n",
       " ((500, 334), 89),\n",
       " ((376, 500), 72),\n",
       " ((354, 500), 60),\n",
       " ((336, 500), 59),\n",
       " ((350, 500), 57),\n",
       " ((374, 500), 57),\n",
       " ((358, 500), 56),\n",
       " ((363, 500), 53)]"
      ]
     },
     "execution_count": 245,
     "metadata": {},
     "output_type": "execute_result"
    }
   ],
   "source": [
    "szs_dict.most_common(20)"
   ]
  },
  {
   "cell_type": "code",
   "execution_count": null,
   "metadata": {},
   "outputs": [],
   "source": []
  },
  {
   "cell_type": "markdown",
   "metadata": {},
   "source": [
    "### classifier"
   ]
  },
  {
   "cell_type": "code",
   "execution_count": 326,
   "metadata": {},
   "outputs": [],
   "source": [
    "def get_data(sz,bs):\n",
    "    tfms = tfms_from_stats(imagenet_stats, sz, aug_tfms=transforms_side_on, pad=sz//8)\n",
    "    return ImageClassifierData.from_paths(PATH, trn_name='train', val_name='val', test_name='test', tfms=tfms, bs=bs)"
   ]
  },
  {
   "cell_type": "code",
   "execution_count": 327,
   "metadata": {},
   "outputs": [],
   "source": [
    "data = get_data(224, 64)"
   ]
  },
  {
   "cell_type": "code",
   "execution_count": 328,
   "metadata": {},
   "outputs": [
    {
     "data": {
      "text/plain": [
       "(4800, 1194, 5794)"
      ]
     },
     "execution_count": 328,
     "metadata": {},
     "output_type": "execute_result"
    }
   ],
   "source": [
    "len(data.trn_ds), len(data.val_ds), len(data.test_ds)"
   ]
  },
  {
   "cell_type": "code",
   "execution_count": 329,
   "metadata": {},
   "outputs": [
    {
     "data": {
      "text/plain": [
       "200"
      ]
     },
     "execution_count": 329,
     "metadata": {},
     "output_type": "execute_result"
    }
   ],
   "source": [
    "data.c"
   ]
  },
  {
   "cell_type": "code",
   "execution_count": 330,
   "metadata": {},
   "outputs": [
    {
     "data": {
      "text/plain": [
       "['001.Black_footed_Albatross',\n",
       " '002.Laysan_Albatross',\n",
       " '003.Sooty_Albatross',\n",
       " '004.Groove_billed_Ani',\n",
       " '005.Crested_Auklet',\n",
       " '006.Least_Auklet',\n",
       " '007.Parakeet_Auklet',\n",
       " '008.Rhinoceros_Auklet',\n",
       " '009.Brewer_Blackbird',\n",
       " '010.Red_winged_Blackbird',\n",
       " '011.Rusty_Blackbird',\n",
       " '012.Yellow_headed_Blackbird',\n",
       " '013.Bobolink',\n",
       " '014.Indigo_Bunting',\n",
       " '015.Lazuli_Bunting',\n",
       " '016.Painted_Bunting',\n",
       " '017.Cardinal',\n",
       " '018.Spotted_Catbird',\n",
       " '019.Gray_Catbird',\n",
       " '020.Yellow_breasted_Chat',\n",
       " '021.Eastern_Towhee',\n",
       " '022.Chuck_will_Widow',\n",
       " '023.Brandt_Cormorant',\n",
       " '024.Red_faced_Cormorant',\n",
       " '025.Pelagic_Cormorant',\n",
       " '026.Bronzed_Cowbird',\n",
       " '027.Shiny_Cowbird',\n",
       " '028.Brown_Creeper',\n",
       " '029.American_Crow',\n",
       " '030.Fish_Crow',\n",
       " '031.Black_billed_Cuckoo',\n",
       " '032.Mangrove_Cuckoo',\n",
       " '033.Yellow_billed_Cuckoo',\n",
       " '034.Gray_crowned_Rosy_Finch',\n",
       " '035.Purple_Finch',\n",
       " '036.Northern_Flicker',\n",
       " '037.Acadian_Flycatcher',\n",
       " '038.Great_Crested_Flycatcher',\n",
       " '039.Least_Flycatcher',\n",
       " '040.Olive_sided_Flycatcher',\n",
       " '041.Scissor_tailed_Flycatcher',\n",
       " '042.Vermilion_Flycatcher',\n",
       " '043.Yellow_bellied_Flycatcher',\n",
       " '044.Frigatebird',\n",
       " '045.Northern_Fulmar',\n",
       " '046.Gadwall',\n",
       " '047.American_Goldfinch',\n",
       " '048.European_Goldfinch',\n",
       " '049.Boat_tailed_Grackle',\n",
       " '050.Eared_Grebe',\n",
       " '051.Horned_Grebe',\n",
       " '052.Pied_billed_Grebe',\n",
       " '053.Western_Grebe',\n",
       " '054.Blue_Grosbeak',\n",
       " '055.Evening_Grosbeak',\n",
       " '056.Pine_Grosbeak',\n",
       " '057.Rose_breasted_Grosbeak',\n",
       " '058.Pigeon_Guillemot',\n",
       " '059.California_Gull',\n",
       " '060.Glaucous_winged_Gull',\n",
       " '061.Heermann_Gull',\n",
       " '062.Herring_Gull',\n",
       " '063.Ivory_Gull',\n",
       " '064.Ring_billed_Gull',\n",
       " '065.Slaty_backed_Gull',\n",
       " '066.Western_Gull',\n",
       " '067.Anna_Hummingbird',\n",
       " '068.Ruby_throated_Hummingbird',\n",
       " '069.Rufous_Hummingbird',\n",
       " '070.Green_Violetear',\n",
       " '071.Long_tailed_Jaeger',\n",
       " '072.Pomarine_Jaeger',\n",
       " '073.Blue_Jay',\n",
       " '074.Florida_Jay',\n",
       " '075.Green_Jay',\n",
       " '076.Dark_eyed_Junco',\n",
       " '077.Tropical_Kingbird',\n",
       " '078.Gray_Kingbird',\n",
       " '079.Belted_Kingfisher',\n",
       " '080.Green_Kingfisher',\n",
       " '081.Pied_Kingfisher',\n",
       " '082.Ringed_Kingfisher',\n",
       " '083.White_breasted_Kingfisher',\n",
       " '084.Red_legged_Kittiwake',\n",
       " '085.Horned_Lark',\n",
       " '086.Pacific_Loon',\n",
       " '087.Mallard',\n",
       " '088.Western_Meadowlark',\n",
       " '089.Hooded_Merganser',\n",
       " '090.Red_breasted_Merganser',\n",
       " '091.Mockingbird',\n",
       " '092.Nighthawk',\n",
       " '093.Clark_Nutcracker',\n",
       " '094.White_breasted_Nuthatch',\n",
       " '095.Baltimore_Oriole',\n",
       " '096.Hooded_Oriole',\n",
       " '097.Orchard_Oriole',\n",
       " '098.Scott_Oriole',\n",
       " '099.Ovenbird',\n",
       " '100.Brown_Pelican',\n",
       " '101.White_Pelican',\n",
       " '102.Western_Wood_Pewee',\n",
       " '103.Sayornis',\n",
       " '104.American_Pipit',\n",
       " '105.Whip_poor_Will',\n",
       " '106.Horned_Puffin',\n",
       " '107.Common_Raven',\n",
       " '108.White_necked_Raven',\n",
       " '109.American_Redstart',\n",
       " '110.Geococcyx',\n",
       " '111.Loggerhead_Shrike',\n",
       " '112.Great_Grey_Shrike',\n",
       " '113.Baird_Sparrow',\n",
       " '114.Black_throated_Sparrow',\n",
       " '115.Brewer_Sparrow',\n",
       " '116.Chipping_Sparrow',\n",
       " '117.Clay_colored_Sparrow',\n",
       " '118.House_Sparrow',\n",
       " '119.Field_Sparrow',\n",
       " '120.Fox_Sparrow',\n",
       " '121.Grasshopper_Sparrow',\n",
       " '122.Harris_Sparrow',\n",
       " '123.Henslow_Sparrow',\n",
       " '124.Le_Conte_Sparrow',\n",
       " '125.Lincoln_Sparrow',\n",
       " '126.Nelson_Sharp_tailed_Sparrow',\n",
       " '127.Savannah_Sparrow',\n",
       " '128.Seaside_Sparrow',\n",
       " '129.Song_Sparrow',\n",
       " '130.Tree_Sparrow',\n",
       " '131.Vesper_Sparrow',\n",
       " '132.White_crowned_Sparrow',\n",
       " '133.White_throated_Sparrow',\n",
       " '134.Cape_Glossy_Starling',\n",
       " '135.Bank_Swallow',\n",
       " '136.Barn_Swallow',\n",
       " '137.Cliff_Swallow',\n",
       " '138.Tree_Swallow',\n",
       " '139.Scarlet_Tanager',\n",
       " '140.Summer_Tanager',\n",
       " '141.Artic_Tern',\n",
       " '142.Black_Tern',\n",
       " '143.Caspian_Tern',\n",
       " '144.Common_Tern',\n",
       " '145.Elegant_Tern',\n",
       " '146.Forsters_Tern',\n",
       " '147.Least_Tern',\n",
       " '148.Green_tailed_Towhee',\n",
       " '149.Brown_Thrasher',\n",
       " '150.Sage_Thrasher',\n",
       " '151.Black_capped_Vireo',\n",
       " '152.Blue_headed_Vireo',\n",
       " '153.Philadelphia_Vireo',\n",
       " '154.Red_eyed_Vireo',\n",
       " '155.Warbling_Vireo',\n",
       " '156.White_eyed_Vireo',\n",
       " '157.Yellow_throated_Vireo',\n",
       " '158.Bay_breasted_Warbler',\n",
       " '159.Black_and_white_Warbler',\n",
       " '160.Black_throated_Blue_Warbler',\n",
       " '161.Blue_winged_Warbler',\n",
       " '162.Canada_Warbler',\n",
       " '163.Cape_May_Warbler',\n",
       " '164.Cerulean_Warbler',\n",
       " '165.Chestnut_sided_Warbler',\n",
       " '166.Golden_winged_Warbler',\n",
       " '167.Hooded_Warbler',\n",
       " '168.Kentucky_Warbler',\n",
       " '169.Magnolia_Warbler',\n",
       " '170.Mourning_Warbler',\n",
       " '171.Myrtle_Warbler',\n",
       " '172.Nashville_Warbler',\n",
       " '173.Orange_crowned_Warbler',\n",
       " '174.Palm_Warbler',\n",
       " '175.Pine_Warbler',\n",
       " '176.Prairie_Warbler',\n",
       " '177.Prothonotary_Warbler',\n",
       " '178.Swainson_Warbler',\n",
       " '179.Tennessee_Warbler',\n",
       " '180.Wilson_Warbler',\n",
       " '181.Worm_eating_Warbler',\n",
       " '182.Yellow_Warbler',\n",
       " '183.Northern_Waterthrush',\n",
       " '184.Louisiana_Waterthrush',\n",
       " '185.Bohemian_Waxwing',\n",
       " '186.Cedar_Waxwing',\n",
       " '187.American_Three_toed_Woodpecker',\n",
       " '188.Pileated_Woodpecker',\n",
       " '189.Red_bellied_Woodpecker',\n",
       " '190.Red_cockaded_Woodpecker',\n",
       " '191.Red_headed_Woodpecker',\n",
       " '192.Downy_Woodpecker',\n",
       " '193.Bewick_Wren',\n",
       " '194.Cactus_Wren',\n",
       " '195.Carolina_Wren',\n",
       " '196.House_Wren',\n",
       " '197.Marsh_Wren',\n",
       " '198.Rock_Wren',\n",
       " '199.Winter_Wren',\n",
       " '200.Common_Yellowthroat']"
      ]
     },
     "execution_count": 330,
     "metadata": {},
     "output_type": "execute_result"
    }
   ],
   "source": [
    "data.classes"
   ]
  },
  {
   "cell_type": "code",
   "execution_count": 251,
   "metadata": {},
   "outputs": [
    {
     "data": {
      "text/plain": [
       "224"
      ]
     },
     "execution_count": 251,
     "metadata": {},
     "output_type": "execute_result"
    }
   ],
   "source": [
    "data.sz"
   ]
  },
  {
   "cell_type": "code",
   "execution_count": 262,
   "metadata": {},
   "outputs": [
    {
     "data": {
      "text/plain": [
       "<matplotlib.image.AxesImage at 0x7f75a821da20>"
      ]
     },
     "execution_count": 262,
     "metadata": {},
     "output_type": "execute_result"
    },
    {
     "data": {
      "image/png": "[encoded data removed]",
      "text/plain": [
       "<Figure size 432x288 with 1 Axes>"
      ]
     },
     "metadata": {},
     "output_type": "display_data"
    }
   ],
   "source": [
    "plt.imshow(data.trn_ds.get_x(103))"
   ]
  },
  {
   "cell_type": "code",
   "execution_count": 337,
   "metadata": {},
   "outputs": [],
   "source": [
    "# original vgg 16 model\n",
    "vgg_torch = vgg16_bn(False)"
   ]
  },
  {
   "cell_type": "code",
   "execution_count": 340,
   "metadata": {
    "scrolled": true
   },
   "outputs": [
    {
     "data": {
      "text/plain": [
       "VGG(\n",
       "  (features): Sequential(\n",
       "    (0): Conv2d(3, 64, kernel_size=(3, 3), stride=(1, 1), padding=(1, 1))\n",
       "    (1): BatchNorm2d(64, eps=1e-05, momentum=0.1, affine=True)\n",
       "    (2): ReLU(inplace)\n",
       "    (3): Conv2d(64, 64, kernel_size=(3, 3), stride=(1, 1), padding=(1, 1))\n",
       "    (4): BatchNorm2d(64, eps=1e-05, momentum=0.1, affine=True)\n",
       "    (5): ReLU(inplace)\n",
       "    (6): MaxPool2d(kernel_size=(2, 2), stride=(2, 2), dilation=(1, 1), ceil_mode=False)\n",
       "    (7): Conv2d(64, 128, kernel_size=(3, 3), stride=(1, 1), padding=(1, 1))\n",
       "    (8): BatchNorm2d(128, eps=1e-05, momentum=0.1, affine=True)\n",
       "    (9): ReLU(inplace)\n",
       "    (10): Conv2d(128, 128, kernel_size=(3, 3), stride=(1, 1), padding=(1, 1))\n",
       "    (11): BatchNorm2d(128, eps=1e-05, momentum=0.1, affine=True)\n",
       "    (12): ReLU(inplace)\n",
       "    (13): MaxPool2d(kernel_size=(2, 2), stride=(2, 2), dilation=(1, 1), ceil_mode=False)\n",
       "    (14): Conv2d(128, 256, kernel_size=(3, 3), stride=(1, 1), padding=(1, 1))\n",
       "    (15): BatchNorm2d(256, eps=1e-05, momentum=0.1, affine=True)\n",
       "    (16): ReLU(inplace)\n",
       "    (17): Conv2d(256, 256, kernel_size=(3, 3), stride=(1, 1), padding=(1, 1))\n",
       "    (18): BatchNorm2d(256, eps=1e-05, momentum=0.1, affine=True)\n",
       "    (19): ReLU(inplace)\n",
       "    (20): Conv2d(256, 256, kernel_size=(3, 3), stride=(1, 1), padding=(1, 1))\n",
       "    (21): BatchNorm2d(256, eps=1e-05, momentum=0.1, affine=True)\n",
       "    (22): ReLU(inplace)\n",
       "    (23): MaxPool2d(kernel_size=(2, 2), stride=(2, 2), dilation=(1, 1), ceil_mode=False)\n",
       "    (24): Conv2d(256, 512, kernel_size=(3, 3), stride=(1, 1), padding=(1, 1))\n",
       "    (25): BatchNorm2d(512, eps=1e-05, momentum=0.1, affine=True)\n",
       "    (26): ReLU(inplace)\n",
       "    (27): Conv2d(512, 512, kernel_size=(3, 3), stride=(1, 1), padding=(1, 1))\n",
       "    (28): BatchNorm2d(512, eps=1e-05, momentum=0.1, affine=True)\n",
       "    (29): ReLU(inplace)\n",
       "    (30): Conv2d(512, 512, kernel_size=(3, 3), stride=(1, 1), padding=(1, 1))\n",
       "    (31): BatchNorm2d(512, eps=1e-05, momentum=0.1, affine=True)\n",
       "    (32): ReLU(inplace)\n",
       "    (33): MaxPool2d(kernel_size=(2, 2), stride=(2, 2), dilation=(1, 1), ceil_mode=False)\n",
       "    (34): Conv2d(512, 512, kernel_size=(3, 3), stride=(1, 1), padding=(1, 1))\n",
       "    (35): BatchNorm2d(512, eps=1e-05, momentum=0.1, affine=True)\n",
       "    (36): ReLU(inplace)\n",
       "    (37): Conv2d(512, 512, kernel_size=(3, 3), stride=(1, 1), padding=(1, 1))\n",
       "    (38): BatchNorm2d(512, eps=1e-05, momentum=0.1, affine=True)\n",
       "    (39): ReLU(inplace)\n",
       "    (40): Conv2d(512, 512, kernel_size=(3, 3), stride=(1, 1), padding=(1, 1))\n",
       "    (41): BatchNorm2d(512, eps=1e-05, momentum=0.1, affine=True)\n",
       "    (42): ReLU(inplace)\n",
       "    (43): MaxPool2d(kernel_size=(2, 2), stride=(2, 2), dilation=(1, 1), ceil_mode=False)\n",
       "  )\n",
       "  (classifier): Sequential(\n",
       "    (0): Linear(in_features=25088, out_features=4096, bias=True)\n",
       "    (1): ReLU(inplace)\n",
       "    (2): Dropout(p=0.5)\n",
       "    (3): Linear(in_features=4096, out_features=4096, bias=True)\n",
       "    (4): ReLU(inplace)\n",
       "    (5): Dropout(p=0.5)\n",
       "    (6): Linear(in_features=4096, out_features=1000, bias=True)\n",
       "  )\n",
       ")"
      ]
     },
     "execution_count": 340,
     "metadata": {},
     "output_type": "execute_result"
    }
   ],
   "source": [
    "vgg_torch"
   ]
  },
  {
   "cell_type": "code",
   "execution_count": 335,
   "metadata": {},
   "outputs": [],
   "source": [
    "# vgg without fc layers\n",
    "vgg_model = vgg16(False)"
   ]
  },
  {
   "cell_type": "code",
   "execution_count": 336,
   "metadata": {
    "scrolled": true
   },
   "outputs": [
    {
     "data": {
      "text/plain": [
       "Sequential(\n",
       "  (0): Conv2d(3, 64, kernel_size=(3, 3), stride=(1, 1), padding=(1, 1))\n",
       "  (1): BatchNorm2d(64, eps=1e-05, momentum=0.1, affine=True)\n",
       "  (2): ReLU(inplace)\n",
       "  (3): Conv2d(64, 64, kernel_size=(3, 3), stride=(1, 1), padding=(1, 1))\n",
       "  (4): BatchNorm2d(64, eps=1e-05, momentum=0.1, affine=True)\n",
       "  (5): ReLU(inplace)\n",
       "  (6): MaxPool2d(kernel_size=(2, 2), stride=(2, 2), dilation=(1, 1), ceil_mode=False)\n",
       "  (7): Conv2d(64, 128, kernel_size=(3, 3), stride=(1, 1), padding=(1, 1))\n",
       "  (8): BatchNorm2d(128, eps=1e-05, momentum=0.1, affine=True)\n",
       "  (9): ReLU(inplace)\n",
       "  (10): Conv2d(128, 128, kernel_size=(3, 3), stride=(1, 1), padding=(1, 1))\n",
       "  (11): BatchNorm2d(128, eps=1e-05, momentum=0.1, affine=True)\n",
       "  (12): ReLU(inplace)\n",
       "  (13): MaxPool2d(kernel_size=(2, 2), stride=(2, 2), dilation=(1, 1), ceil_mode=False)\n",
       "  (14): Conv2d(128, 256, kernel_size=(3, 3), stride=(1, 1), padding=(1, 1))\n",
       "  (15): BatchNorm2d(256, eps=1e-05, momentum=0.1, affine=True)\n",
       "  (16): ReLU(inplace)\n",
       "  (17): Conv2d(256, 256, kernel_size=(3, 3), stride=(1, 1), padding=(1, 1))\n",
       "  (18): BatchNorm2d(256, eps=1e-05, momentum=0.1, affine=True)\n",
       "  (19): ReLU(inplace)\n",
       "  (20): Conv2d(256, 256, kernel_size=(3, 3), stride=(1, 1), padding=(1, 1))\n",
       "  (21): BatchNorm2d(256, eps=1e-05, momentum=0.1, affine=True)\n",
       "  (22): ReLU(inplace)\n",
       "  (23): MaxPool2d(kernel_size=(2, 2), stride=(2, 2), dilation=(1, 1), ceil_mode=False)\n",
       "  (24): Conv2d(256, 512, kernel_size=(3, 3), stride=(1, 1), padding=(1, 1))\n",
       "  (25): BatchNorm2d(512, eps=1e-05, momentum=0.1, affine=True)\n",
       "  (26): ReLU(inplace)\n",
       "  (27): Conv2d(512, 512, kernel_size=(3, 3), stride=(1, 1), padding=(1, 1))\n",
       "  (28): BatchNorm2d(512, eps=1e-05, momentum=0.1, affine=True)\n",
       "  (29): ReLU(inplace)\n",
       "  (30): Conv2d(512, 512, kernel_size=(3, 3), stride=(1, 1), padding=(1, 1))\n",
       "  (31): BatchNorm2d(512, eps=1e-05, momentum=0.1, affine=True)\n",
       "  (32): ReLU(inplace)\n",
       "  (33): MaxPool2d(kernel_size=(2, 2), stride=(2, 2), dilation=(1, 1), ceil_mode=False)\n",
       "  (34): Conv2d(512, 512, kernel_size=(3, 3), stride=(1, 1), padding=(1, 1))\n",
       "  (35): BatchNorm2d(512, eps=1e-05, momentum=0.1, affine=True)\n",
       "  (36): ReLU(inplace)\n",
       "  (37): Conv2d(512, 512, kernel_size=(3, 3), stride=(1, 1), padding=(1, 1))\n",
       "  (38): BatchNorm2d(512, eps=1e-05, momentum=0.1, affine=True)\n",
       "  (39): ReLU(inplace)\n",
       "  (40): Conv2d(512, 512, kernel_size=(3, 3), stride=(1, 1), padding=(1, 1))\n",
       "  (41): BatchNorm2d(512, eps=1e-05, momentum=0.1, affine=True)\n",
       "  (42): ReLU(inplace)\n",
       "  (43): MaxPool2d(kernel_size=(2, 2), stride=(2, 2), dilation=(1, 1), ceil_mode=False)\n",
       ")"
      ]
     },
     "execution_count": 336,
     "metadata": {},
     "output_type": "execute_result"
    }
   ],
   "source": [
    "vgg_model"
   ]
  },
  {
   "cell_type": "code",
   "execution_count": 332,
   "metadata": {},
   "outputs": [],
   "source": [
    "# vgg with custom head layers (concat pool)\n",
    "learn = ConvLearner.pretrained(vgg16, data, precompute=False,\n",
    "                               pretrained=True)"
   ]
  },
  {
   "cell_type": "code",
   "execution_count": 333,
   "metadata": {
    "scrolled": true
   },
   "outputs": [
    {
     "data": {
      "text/plain": [
       "Sequential(\n",
       "  (0): Sequential(\n",
       "    (0): Conv2d(3, 64, kernel_size=(3, 3), stride=(1, 1), padding=(1, 1))\n",
       "    (1): BatchNorm2d(64, eps=1e-05, momentum=0.1, affine=True)\n",
       "    (2): ReLU(inplace)\n",
       "    (3): Conv2d(64, 64, kernel_size=(3, 3), stride=(1, 1), padding=(1, 1))\n",
       "    (4): BatchNorm2d(64, eps=1e-05, momentum=0.1, affine=True)\n",
       "    (5): ReLU(inplace)\n",
       "    (6): MaxPool2d(kernel_size=(2, 2), stride=(2, 2), dilation=(1, 1), ceil_mode=False)\n",
       "    (7): Conv2d(64, 128, kernel_size=(3, 3), stride=(1, 1), padding=(1, 1))\n",
       "    (8): BatchNorm2d(128, eps=1e-05, momentum=0.1, affine=True)\n",
       "    (9): ReLU(inplace)\n",
       "    (10): Conv2d(128, 128, kernel_size=(3, 3), stride=(1, 1), padding=(1, 1))\n",
       "    (11): BatchNorm2d(128, eps=1e-05, momentum=0.1, affine=True)\n",
       "    (12): ReLU(inplace)\n",
       "    (13): MaxPool2d(kernel_size=(2, 2), stride=(2, 2), dilation=(1, 1), ceil_mode=False)\n",
       "    (14): Conv2d(128, 256, kernel_size=(3, 3), stride=(1, 1), padding=(1, 1))\n",
       "    (15): BatchNorm2d(256, eps=1e-05, momentum=0.1, affine=True)\n",
       "    (16): ReLU(inplace)\n",
       "    (17): Conv2d(256, 256, kernel_size=(3, 3), stride=(1, 1), padding=(1, 1))\n",
       "    (18): BatchNorm2d(256, eps=1e-05, momentum=0.1, affine=True)\n",
       "    (19): ReLU(inplace)\n",
       "    (20): Conv2d(256, 256, kernel_size=(3, 3), stride=(1, 1), padding=(1, 1))\n",
       "    (21): BatchNorm2d(256, eps=1e-05, momentum=0.1, affine=True)\n",
       "    (22): ReLU(inplace)\n",
       "    (23): MaxPool2d(kernel_size=(2, 2), stride=(2, 2), dilation=(1, 1), ceil_mode=False)\n",
       "    (24): Conv2d(256, 512, kernel_size=(3, 3), stride=(1, 1), padding=(1, 1))\n",
       "    (25): BatchNorm2d(512, eps=1e-05, momentum=0.1, affine=True)\n",
       "    (26): ReLU(inplace)\n",
       "    (27): Conv2d(512, 512, kernel_size=(3, 3), stride=(1, 1), padding=(1, 1))\n",
       "    (28): BatchNorm2d(512, eps=1e-05, momentum=0.1, affine=True)\n",
       "    (29): ReLU(inplace)\n",
       "    (30): Conv2d(512, 512, kernel_size=(3, 3), stride=(1, 1), padding=(1, 1))\n",
       "    (31): BatchNorm2d(512, eps=1e-05, momentum=0.1, affine=True)\n",
       "    (32): ReLU(inplace)\n",
       "    (33): MaxPool2d(kernel_size=(2, 2), stride=(2, 2), dilation=(1, 1), ceil_mode=False)\n",
       "    (34): Conv2d(512, 512, kernel_size=(3, 3), stride=(1, 1), padding=(1, 1))\n",
       "    (35): BatchNorm2d(512, eps=1e-05, momentum=0.1, affine=True)\n",
       "    (36): ReLU(inplace)\n",
       "    (37): Conv2d(512, 512, kernel_size=(3, 3), stride=(1, 1), padding=(1, 1))\n",
       "    (38): BatchNorm2d(512, eps=1e-05, momentum=0.1, affine=True)\n",
       "    (39): ReLU(inplace)\n",
       "    (40): Conv2d(512, 512, kernel_size=(3, 3), stride=(1, 1), padding=(1, 1))\n",
       "    (41): BatchNorm2d(512, eps=1e-05, momentum=0.1, affine=True)\n",
       "    (42): ReLU(inplace)\n",
       "    (43): MaxPool2d(kernel_size=(2, 2), stride=(2, 2), dilation=(1, 1), ceil_mode=False)\n",
       "  )\n",
       "  (1): AdaptiveConcatPool2d(\n",
       "    (ap): AdaptiveAvgPool2d(output_size=(1, 1))\n",
       "    (mp): AdaptiveMaxPool2d(output_size=(1, 1))\n",
       "  )\n",
       "  (2): Flatten(\n",
       "  )\n",
       "  (3): BatchNorm1d(1024, eps=1e-05, momentum=0.1, affine=True)\n",
       "  (4): Dropout(p=0.25)\n",
       "  (5): Linear(in_features=1024, out_features=512, bias=True)\n",
       "  (6): ReLU()\n",
       "  (7): BatchNorm1d(512, eps=1e-05, momentum=0.1, affine=True)\n",
       "  (8): Dropout(p=0.5)\n",
       "  (9): Linear(in_features=512, out_features=200, bias=True)\n",
       "  (10): LogSoftmax()\n",
       ")"
      ]
     },
     "execution_count": 333,
     "metadata": {},
     "output_type": "execute_result"
    }
   ],
   "source": [
    "learn.model"
   ]
  },
  {
   "cell_type": "code",
   "execution_count": null,
   "metadata": {},
   "outputs": [],
   "source": []
  }
 ],
 "metadata": {
  "kernelspec": {
   "display_name": "Python 3",
   "language": "python",
   "name": "python3"
  },
  "language_info": {
   "codemirror_mode": {
    "name": "ipython",
    "version": 3
   },
   "file_extension": ".py",
   "mimetype": "text/x-python",
   "name": "python",
   "nbconvert_exporter": "python",
   "pygments_lexer": "ipython3",
   "version": "3.6.5"
  }
 },
 "nbformat": 4,
 "nbformat_minor": 2
}
